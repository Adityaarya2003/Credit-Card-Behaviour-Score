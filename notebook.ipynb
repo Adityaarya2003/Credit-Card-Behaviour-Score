{
  "cells": [
    {
      "cell_type": "markdown",
      "metadata": {},
      "source": [
        "# **Required Libraries**"
      ]
    },
    {
      "cell_type": "code",
      "execution_count": 29,
      "metadata": {
        "id": "Yuy8cTuJBsus"
      },
      "outputs": [],
      "source": [
        "import pandas as pd\n",
        "import numpy as np\n",
        "import matplotlib.pyplot as plt\n",
        "import seaborn as sns\n",
        "import lightgbm as lgb\n",
        "from xgboost import XGBClassifier\n",
        "from sklearn.ensemble import RandomForestClassifier\n",
        "from sklearn.model_selection import train_test_split\n",
        "from sklearn.metrics import classification_report, accuracy_score, f1_score, roc_auc_score\n",
        "from sklearn.model_selection import RandomizedSearchCV\n"
      ]
    },
    {
      "cell_type": "code",
      "execution_count": 2,
      "metadata": {
        "id": "Rk8Lt7MhBsuw"
      },
      "outputs": [],
      "source": [
        "# Paths for the data files\n",
        "dev_data = pd.read_csv(\"C:\\\\Users\\\\11a24\\\\Documents\\\\Convolve\\\\Dev_data_to_be_shared.csv\") # Replace the paths\n",
        "validation_data = pd.read_csv(\"C:\\\\Users\\\\11a24\\\\Documents\\\\Convolve\\\\validation_data_to_be_shared.csv\") # Replace the paths"
      ]
    },
    {
      "cell_type": "code",
      "execution_count": 3,
      "metadata": {
        "colab": {
          "base_uri": "https://localhost:8080/",
          "height": 458
        },
        "id": "BFQ3P1uSBsuw",
        "outputId": "f539d1ef-cbbd-4e06-d4de-723bb0755d43"
      },
      "outputs": [
        {
          "data": {
            "text/plain": [
              "account_number               int64\n",
              "bad_flag                     int64\n",
              "onus_attribute_1           float64\n",
              "transaction_attribute_1    float64\n",
              "transaction_attribute_2    float64\n",
              "                            ...   \n",
              "onus_attribute_44          float64\n",
              "onus_attribute_45          float64\n",
              "onus_attribute_46          float64\n",
              "onus_attribute_47          float64\n",
              "onus_attribute_48          float64\n",
              "Length: 1216, dtype: object"
            ]
          },
          "execution_count": 3,
          "metadata": {},
          "output_type": "execute_result"
        }
      ],
      "source": [
        "df_dev = dev_data\n",
        "df_val= validation_data\n",
        "df_dev.dtypes"
      ]
    },
    {
      "cell_type": "markdown",
      "metadata": {},
      "source": [
        "# **Data Preprocessing**"
      ]
    },
    {
      "cell_type": "code",
      "execution_count": 4,
      "metadata": {
        "colab": {
          "base_uri": "https://localhost:8080/"
        },
        "id": "WtDWj3EtBsux",
        "outputId": "8a04fc4a-39fc-4c9b-9b96-12d37021a948"
      },
      "outputs": [
        {
          "name": "stdout",
          "output_type": "stream",
          "text": [
            "Number of On-Us Attributes: 48\n",
            "Number of Transaction Attributes: 664\n",
            "Number of Bureau Attributes: 452\n",
            "Number of Bureau Enquiry Attributes: 50\n"
          ]
        }
      ],
      "source": [
        "# Define feature categories\n",
        "onus_attributes = [col for col in df_dev.columns if col.startswith(\"onus_attribute\")]\n",
        "transaction_attributes = [col for col in df_dev.columns if col.startswith(\"transaction_attribute\")]\n",
        "bureau_attributes = [col for col in df_dev.columns if col.startswith(\"bureau\") and not col.startswith(\"bureau_enquiry\")]\n",
        "bureau_enquiry_attributes = [col for col in df_dev.columns if col.startswith(\"bureau_enquiry\")]\n",
        "\n",
        "feature_counts = {\n",
        "    \"On-Us Attributes\": len(onus_attributes),\n",
        "    \"Transaction Attributes\": len(transaction_attributes),\n",
        "    \"Bureau Attributes\": len(bureau_attributes),\n",
        "    \"Bureau Enquiry Attributes\": len(bureau_enquiry_attributes),\n",
        "}\n",
        "\n",
        "# Count features in each category\n",
        "print(f\"Number of On-Us Attributes: {len(onus_attributes)}\")\n",
        "print(f\"Number of Transaction Attributes: {len(transaction_attributes)}\")\n",
        "print(f\"Number of Bureau Attributes: {len(bureau_attributes)}\")\n",
        "print(f\"Number of Bureau Enquiry Attributes: {len(bureau_enquiry_attributes)}\")"
      ]
    },
    {
      "cell_type": "code",
      "execution_count": 5,
      "metadata": {
        "colab": {
          "base_uri": "https://localhost:8080/"
        },
        "id": "pva0sMpZBsuy",
        "outputId": "2a8cf4db-bafe-4bb4-e2df-51e5efaeab5e"
      },
      "outputs": [
        {
          "name": "stdout",
          "output_type": "stream",
          "text": [
            "Features with more than 35% null values:\n",
            "bureau_148            93.552053\n",
            "bureau_433            76.215317\n",
            "bureau_434            42.237051\n",
            "bureau_435            76.948743\n",
            "bureau_436           100.000000\n",
            "bureau_437            67.461728\n",
            "bureau_438            85.539119\n",
            "bureau_444            87.742495\n",
            "bureau_445            53.688821\n",
            "bureau_446            83.377063\n",
            "bureau_447           100.000000\n",
            "bureau_448            90.028511\n",
            "bureau_449            94.124331\n",
            "bureau_451            57.208231\n",
            "onus_attribute_6      36.839659\n",
            "onus_attribute_7      46.437204\n",
            "onus_attribute_43     88.006942\n",
            "onus_attribute_44     88.006942\n",
            "onus_attribute_45     88.006942\n",
            "onus_attribute_46     88.006942\n",
            "onus_attribute_47     88.006942\n",
            "onus_attribute_48     88.006942\n",
            "dtype: float64\n"
          ]
        }
      ],
      "source": [
        "# Calculate the percentage of null values for each feature\n",
        "null_percentage = df_dev.isnull().mean() * 100\n",
        "\n",
        "# Filter features with more than 35% null values\n",
        "features_with_high_nulls = null_percentage[null_percentage > 35]\n",
        "\n",
        "# Print the features and their corresponding null percentages\n",
        "print(\"Features with more than 35% null values:\")\n",
        "print(features_with_high_nulls)\n"
      ]
    },
    {
      "cell_type": "code",
      "execution_count": 6,
      "metadata": {
        "colab": {
          "base_uri": "https://localhost:8080/",
          "height": 178
        },
        "id": "YQcG5z2qBsuy",
        "outputId": "e6638911-0bf5-4961-8b50-f3936e04e5c5"
      },
      "outputs": [
        {
          "data": {
            "text/plain": [
              "bad_flag\n",
              "0    95434\n",
              "1     1372\n",
              "Name: count, dtype: int64"
            ]
          },
          "execution_count": 6,
          "metadata": {},
          "output_type": "execute_result"
        }
      ],
      "source": [
        "df_dev['bad_flag'].value_counts()"
      ]
    },
    {
      "cell_type": "code",
      "execution_count": 7,
      "metadata": {
        "colab": {
          "base_uri": "https://localhost:8080/"
        },
        "collapsed": true,
        "id": "xWcFPQIhBsuy",
        "outputId": "918c4894-c08a-406b-9cdb-ae160aa58baa"
      },
      "outputs": [
        {
          "name": "stdout",
          "output_type": "stream",
          "text": [
            "     account_number  bad_flag  onus_attribute_1  transaction_attribute_1  \\\n",
            "141             142         1           58000.0                      0.0   \n",
            "246             247         1          331000.0                      0.0   \n",
            "289             290         1           74000.0                      0.0   \n",
            "351             352         1           43000.0                      0.0   \n",
            "476             477         1           89000.0                      0.0   \n",
            "523             524         1               NaN                      NaN   \n",
            "577             578         1           25000.0                      0.0   \n",
            "630             631         1           25000.0                      0.0   \n",
            "683             684         1               NaN                      NaN   \n",
            "815             816         1          146000.0                      0.0   \n",
            "\n",
            "     transaction_attribute_2  transaction_attribute_3  \\\n",
            "141                      0.0                      0.0   \n",
            "246                      0.0                      0.0   \n",
            "289                      0.0                      0.0   \n",
            "351                      0.0                      0.0   \n",
            "476                      0.0                      0.0   \n",
            "523                      NaN                      NaN   \n",
            "577                      0.0                      0.0   \n",
            "630                      0.0                      0.0   \n",
            "683                      NaN                      NaN   \n",
            "815                      0.0                      0.0   \n",
            "\n",
            "     transaction_attribute_4  transaction_attribute_5  \\\n",
            "141                      0.0                      0.0   \n",
            "246                      0.0                      0.0   \n",
            "289                      0.0                      0.0   \n",
            "351                      0.0                      0.0   \n",
            "476                      0.0                      0.0   \n",
            "523                      NaN                      NaN   \n",
            "577                      0.0                      0.0   \n",
            "630                      0.0                      0.0   \n",
            "683                      NaN                      NaN   \n",
            "815                      0.0                      0.0   \n",
            "\n",
            "     transaction_attribute_6  transaction_attribute_7  ...  bureau_enquiry_47  \\\n",
            "141                      0.0                      0.0  ...                0.0   \n",
            "246                      0.0                      0.0  ...                0.0   \n",
            "289                      0.0                      0.0  ...                0.0   \n",
            "351                      0.0                      0.0  ...                0.0   \n",
            "476                      0.0                      0.0  ...                0.0   \n",
            "523                      NaN                      NaN  ...                0.0   \n",
            "577                      0.0                      0.0  ...                0.0   \n",
            "630                      0.0                      0.0  ...                0.0   \n",
            "683                      NaN                      NaN  ...                0.0   \n",
            "815                      0.0                      0.0  ...                0.0   \n",
            "\n",
            "     bureau_enquiry_48  bureau_enquiry_49  bureau_enquiry_50  \\\n",
            "141                1.0                0.0                6.0   \n",
            "246                0.0                0.0               10.0   \n",
            "289                0.0                0.0                3.0   \n",
            "351                3.0                0.0               10.0   \n",
            "476                2.0                0.0               17.0   \n",
            "523                0.0                0.0                4.0   \n",
            "577                0.0                0.0                0.0   \n",
            "630                0.0                0.0                2.0   \n",
            "683                5.0                0.0               22.0   \n",
            "815                0.0                0.0               17.0   \n",
            "\n",
            "     onus_attribute_43  onus_attribute_44  onus_attribute_45  \\\n",
            "141                NaN                NaN                NaN   \n",
            "246                8.0               15.0                8.0   \n",
            "289                NaN                NaN                NaN   \n",
            "351                NaN                NaN                NaN   \n",
            "476                NaN                NaN                NaN   \n",
            "523                NaN                NaN                NaN   \n",
            "577                NaN                NaN                NaN   \n",
            "630                NaN                NaN                NaN   \n",
            "683                NaN                NaN                NaN   \n",
            "815                NaN                NaN                NaN   \n",
            "\n",
            "     onus_attribute_46  onus_attribute_47  onus_attribute_48  \n",
            "141                NaN                NaN                NaN  \n",
            "246               15.0                0.0                0.0  \n",
            "289                NaN                NaN                NaN  \n",
            "351                NaN                NaN                NaN  \n",
            "476                NaN                NaN                NaN  \n",
            "523                NaN                NaN                NaN  \n",
            "577                NaN                NaN                NaN  \n",
            "630                NaN                NaN                NaN  \n",
            "683                NaN                NaN                NaN  \n",
            "815                NaN                NaN                NaN  \n",
            "\n",
            "[10 rows x 1216 columns]\n"
          ]
        }
      ],
      "source": [
        "# Filter rows where 'bad_flag' is 1\n",
        "bad_flag_rows = df_dev[df_dev['bad_flag'] == 1]\n",
        "\n",
        "# Display the rows\n",
        "print(bad_flag_rows.head(10))\n"
      ]
    },
    {
      "cell_type": "code",
      "execution_count": 8,
      "metadata": {
        "colab": {
          "base_uri": "https://localhost:8080/"
        },
        "id": "ZfnRaGE1Bsuz",
        "outputId": "4b97de65-0fcf-4bd9-af6d-41484b659d42"
      },
      "outputs": [
        {
          "name": "stdout",
          "output_type": "stream",
          "text": [
            "(70975, 1216)\n"
          ]
        }
      ],
      "source": [
        "# Define the threshold for NaN values\n",
        "threshold = 0.35 * df_dev.shape[1]  # 35% of the total columns\n",
        "\n",
        "# Identify rows with NaN values greater than the threshold and bad_flag = 0\n",
        "mask = (df_dev.isna().sum(axis=1) > threshold) & (df_dev['bad_flag'] == 0)\n",
        "\n",
        "# Remove those rows from the dataframe\n",
        "df_dev = df_dev[~mask].reset_index(drop=True)\n",
        "\n",
        "# Display the result\n",
        "print(df_dev.shape)\n"
      ]
    },
    {
      "cell_type": "code",
      "execution_count": 9,
      "metadata": {
        "colab": {
          "base_uri": "https://localhost:8080/"
        },
        "id": "v1Cb3euJBsuz",
        "outputId": "a43d1410-d02e-431c-94d5-ac5c0cd1d33d"
      },
      "outputs": [
        {
          "name": "stdout",
          "output_type": "stream",
          "text": [
            "Columns dropped: ['bureau_148', 'bureau_433', 'bureau_434', 'bureau_435', 'bureau_436', 'bureau_437', 'bureau_438', 'bureau_444', 'bureau_445', 'bureau_446', 'bureau_447', 'bureau_448', 'bureau_449', 'bureau_451', 'onus_attribute_6', 'onus_attribute_7', 'onus_attribute_43', 'onus_attribute_44', 'onus_attribute_45', 'onus_attribute_46', 'onus_attribute_47', 'onus_attribute_48']\n",
            "Remaining columns: 1194\n"
          ]
        }
      ],
      "source": [
        "# Define the threshold for NaN values\n",
        "threshold = 0.35 * df_dev.shape[0]  # 35% of the total rows\n",
        "\n",
        "# Identify columns where NaN values exceed the threshold\n",
        "columns_to_drop = df_dev.columns[df_dev.isna().sum(axis=0) > threshold]\n",
        "\n",
        "# Drop those columns\n",
        "df_dev = df_dev.drop(columns=columns_to_drop)\n",
        "\n",
        "# Display the result\n",
        "print(f\"Columns dropped: {list(columns_to_drop)}\")\n",
        "print(f\"Remaining columns: {df_dev.shape[1]}\")\n"
      ]
    },
    {
      "cell_type": "code",
      "execution_count": 10,
      "metadata": {
        "colab": {
          "base_uri": "https://localhost:8080/"
        },
        "id": "qD0SFRBZBsuz",
        "outputId": "c4695185-44d6-48b5-dd45-f6a9be6cf918"
      },
      "outputs": [
        {
          "name": "stdout",
          "output_type": "stream",
          "text": [
            "Columns dropped: ['transaction_attribute_152', 'transaction_attribute_191', 'transaction_attribute_524', 'transaction_attribute_525', 'transaction_attribute_582', 'transaction_attribute_621', 'bureau_4', 'bureau_16', 'bureau_26', 'bureau_38', 'bureau_47', 'bureau_56', 'bureau_70', 'bureau_80', 'bureau_90', 'bureau_100', 'bureau_110', 'bureau_120', 'bureau_131', 'bureau_142', 'bureau_152', 'bureau_162', 'bureau_172', 'bureau_182', 'bureau_192', 'bureau_202', 'bureau_212', 'bureau_222', 'bureau_232', 'bureau_242', 'bureau_252', 'bureau_262', 'bureau_272', 'bureau_282', 'bureau_292', 'bureau_302', 'bureau_312', 'bureau_322', 'bureau_332', 'bureau_342', 'bureau_352', 'bureau_362', 'bureau_372', 'bureau_382', 'bureau_392', 'bureau_402', 'bureau_412', 'bureau_423', 'onus_attribute_28', 'bureau_enquiry_7', 'bureau_enquiry_17', 'bureau_enquiry_27', 'bureau_enquiry_37', 'bureau_enquiry_47']\n",
            "Remaining columns: 1140\n"
          ]
        }
      ],
      "source": [
        "# Identify columns with only one unique value\n",
        "columns_to_drop = [col for col in df_dev.columns if df_dev[col].nunique() == 1]\n",
        "\n",
        "# Drop those columns\n",
        "df_dev = df_dev.drop(columns=columns_to_drop)\n",
        "\n",
        "# Display the result\n",
        "print(f\"Columns dropped: {columns_to_drop}\")\n",
        "print(f\"Remaining columns: {df_dev.shape[1]}\")\n"
      ]
    },
    {
      "cell_type": "code",
      "execution_count": 11,
      "metadata": {
        "colab": {
          "base_uri": "https://localhost:8080/"
        },
        "id": "WrITGTCmBsuz",
        "outputId": "592f86ae-25b2-41ff-866f-d1e8fd8571d4"
      },
      "outputs": [
        {
          "name": "stdout",
          "output_type": "stream",
          "text": [
            "account_number             70975\n",
            "bad_flag                       2\n",
            "onus_attribute_1             968\n",
            "transaction_attribute_1       82\n",
            "transaction_attribute_2        8\n",
            "                           ...  \n",
            "bureau_enquiry_45             86\n",
            "bureau_enquiry_46             26\n",
            "bureau_enquiry_48             14\n",
            "bureau_enquiry_49             15\n",
            "bureau_enquiry_50             88\n",
            "Length: 1140, dtype: int64\n"
          ]
        }
      ],
      "source": [
        "uniq = df_dev.nunique()\n",
        "print(uniq)"
      ]
    },
    {
      "cell_type": "code",
      "execution_count": 12,
      "metadata": {
        "colab": {
          "base_uri": "https://localhost:8080/"
        },
        "id": "1-6B2s5tBsu0",
        "outputId": "b6cc5c34-01ac-435f-ff51-8a2ca50f9f96"
      },
      "outputs": [
        {
          "name": "stdout",
          "output_type": "stream",
          "text": [
            "Number of features starting with 'onus_attribute': 39\n",
            "Number of features starting with 'transaction_attribute_': 658\n",
            "Number of features starting with 'bureau_enquiry': 45\n",
            "Number of features starting with 'bureau': 441\n"
          ]
        }
      ],
      "source": [
        "# Define the prefixes\n",
        "prefixes = ['onus_attribute', 'transaction_attribute_', 'bureau_enquiry', 'bureau']\n",
        "\n",
        "# Initialize a dictionary to store the counts\n",
        "feature_counts = {prefix: 0 for prefix in prefixes}\n",
        "\n",
        "# Count features for each prefix\n",
        "for prefix in prefixes:\n",
        "    feature_counts[prefix] = len([col for col in df_dev.columns if col.startswith(prefix)])\n",
        "\n",
        "# Display the counts\n",
        "for prefix, count in feature_counts.items():\n",
        "    print(f\"Number of features starting with '{prefix}': {count}\")\n"
      ]
    },
    {
      "cell_type": "code",
      "execution_count": 13,
      "metadata": {
        "colab": {
          "base_uri": "https://localhost:8080/"
        },
        "id": "i5xuQpe9Bsu0",
        "outputId": "f3cf6ebe-83f5-4ca8-c052-4dc8ee18ed09"
      },
      "outputs": [
        {
          "name": "stdout",
          "output_type": "stream",
          "text": [
            "Number of features in 'onus_attribute': 39\n",
            "Number of features in 'transaction_attribute_': 658\n",
            "Number of features in 'bureau_enquiry': 45\n",
            "Number of features in 'bureau': 396\n",
            "Sample 'onus_attribute' features: ['onus_attribute_1', 'onus_attribute_2', 'onus_attribute_3', 'onus_attribute_4', 'onus_attribute_5']\n",
            "Sample 'transaction_attribute_' features: ['transaction_attribute_1', 'transaction_attribute_2', 'transaction_attribute_3', 'transaction_attribute_4', 'transaction_attribute_5']\n"
          ]
        }
      ],
      "source": [
        "# Initialize empty lists for each category\n",
        "onus_attribute_features = []\n",
        "transaction_attribute_features = []\n",
        "bureau_enquiry_features = []\n",
        "bureau_features = []\n",
        "\n",
        "# Populate the lists based on the column prefixes\n",
        "for col in df_dev.columns:\n",
        "    if col.startswith('onus_attribute'):\n",
        "        onus_attribute_features.append(col)\n",
        "    elif col.startswith('transaction_attribute_'):\n",
        "        transaction_attribute_features.append(col)\n",
        "    elif col.startswith('bureau_enquiry'):\n",
        "        bureau_enquiry_features.append(col)\n",
        "    elif col.startswith('bureau'):\n",
        "        bureau_features.append(col)\n",
        "\n",
        "# Display the counts and sample features for verification\n",
        "print(f\"Number of features in 'onus_attribute': {len(onus_attribute_features)}\")\n",
        "print(f\"Number of features in 'transaction_attribute_': {len(transaction_attribute_features)}\")\n",
        "print(f\"Number of features in 'bureau_enquiry': {len(bureau_enquiry_features)}\")\n",
        "print(f\"Number of features in 'bureau': {len(bureau_features)}\")\n",
        "\n",
        "# (Optional) Example of accessing the feature lists\n",
        "print(\"Sample 'onus_attribute' features:\", onus_attribute_features[:5])\n",
        "print(\"Sample 'transaction_attribute_' features:\", transaction_attribute_features[:5])\n"
      ]
    },
    {
      "cell_type": "code",
      "execution_count": 14,
      "metadata": {
        "colab": {
          "base_uri": "https://localhost:8080/"
        },
        "id": "UOO5wxdnBsu0",
        "outputId": "a8ce1ae2-c8ef-41c4-8e11-9b8504543ae8"
      },
      "outputs": [
        {
          "data": {
            "text/plain": [
              "(70975, 1140)"
            ]
          },
          "execution_count": 14,
          "metadata": {},
          "output_type": "execute_result"
        }
      ],
      "source": [
        "df_dev.shape"
      ]
    },
    {
      "cell_type": "markdown",
      "metadata": {},
      "source": [
        "**Correlation Analysis**"
      ]
    },
    {
      "cell_type": "code",
      "execution_count": 16,
      "metadata": {
        "colab": {
          "base_uri": "https://localhost:8080/"
        },
        "id": "2B51COQYBsu0",
        "outputId": "fcc48405-c02d-4661-e8d8-154b6b28be33"
      },
      "outputs": [
        {
          "name": "stdout",
          "output_type": "stream",
          "text": [
            "Remaining features in 'onus_attribute': 23\n",
            "Remaining features in 'transaction_attribute_': 456\n",
            "Remaining features in 'bureau_enquiry': 32\n",
            "Remaining features in 'bureau': 274\n",
            "\n",
            "Dropped features from 'onus_attribute': ['onus_attribute_12', 'onus_attribute_13', 'onus_attribute_14', 'onus_attribute_15', 'onus_attribute_16', 'onus_attribute_20', 'onus_attribute_21', 'onus_attribute_22', 'onus_attribute_23', 'onus_attribute_24', 'onus_attribute_25', 'onus_attribute_37', 'onus_attribute_38', 'onus_attribute_39', 'onus_attribute_41', 'onus_attribute_42']\n",
            "Dropped features from 'transaction_attribute_': ['transaction_attribute_9', 'transaction_attribute_15', 'transaction_attribute_30', 'transaction_attribute_39', 'transaction_attribute_51', 'transaction_attribute_60', 'transaction_attribute_66', 'transaction_attribute_80', 'transaction_attribute_81', 'transaction_attribute_87', 'transaction_attribute_103', 'transaction_attribute_104', 'transaction_attribute_105', 'transaction_attribute_106', 'transaction_attribute_114', 'transaction_attribute_120', 'transaction_attribute_136', 'transaction_attribute_144', 'transaction_attribute_151', 'transaction_attribute_159', 'transaction_attribute_164', 'transaction_attribute_183', 'transaction_attribute_190', 'transaction_attribute_196', 'transaction_attribute_198', 'transaction_attribute_216', 'transaction_attribute_222', 'transaction_attribute_227', 'transaction_attribute_230', 'transaction_attribute_231', 'transaction_attribute_235', 'transaction_attribute_242', 'transaction_attribute_243', 'transaction_attribute_253', 'transaction_attribute_254', 'transaction_attribute_290', 'transaction_attribute_294', 'transaction_attribute_295', 'transaction_attribute_300', 'transaction_attribute_304', 'transaction_attribute_308', 'transaction_attribute_313', 'transaction_attribute_325', 'transaction_attribute_337', 'transaction_attribute_338', 'transaction_attribute_339', 'transaction_attribute_340', 'transaction_attribute_343', 'transaction_attribute_345', 'transaction_attribute_349', 'transaction_attribute_352', 'transaction_attribute_353', 'transaction_attribute_357', 'transaction_attribute_358', 'transaction_attribute_362', 'transaction_attribute_363', 'transaction_attribute_364', 'transaction_attribute_365', 'transaction_attribute_366', 'transaction_attribute_367', 'transaction_attribute_368', 'transaction_attribute_372', 'transaction_attribute_373', 'transaction_attribute_377', 'transaction_attribute_378', 'transaction_attribute_379', 'transaction_attribute_382', 'transaction_attribute_383', 'transaction_attribute_387', 'transaction_attribute_388', 'transaction_attribute_390', 'transaction_attribute_392', 'transaction_attribute_393', 'transaction_attribute_397', 'transaction_attribute_398', 'transaction_attribute_400', 'transaction_attribute_402', 'transaction_attribute_403', 'transaction_attribute_406', 'transaction_attribute_407', 'transaction_attribute_408', 'transaction_attribute_409', 'transaction_attribute_412', 'transaction_attribute_413', 'transaction_attribute_416', 'transaction_attribute_417', 'transaction_attribute_418', 'transaction_attribute_422', 'transaction_attribute_423', 'transaction_attribute_427', 'transaction_attribute_428', 'transaction_attribute_432', 'transaction_attribute_433', 'transaction_attribute_437', 'transaction_attribute_438', 'transaction_attribute_442', 'transaction_attribute_443', 'transaction_attribute_447', 'transaction_attribute_448', 'transaction_attribute_452', 'transaction_attribute_453', 'transaction_attribute_456', 'transaction_attribute_457', 'transaction_attribute_458', 'transaction_attribute_462', 'transaction_attribute_463', 'transaction_attribute_467', 'transaction_attribute_468', 'transaction_attribute_471', 'transaction_attribute_472', 'transaction_attribute_473', 'transaction_attribute_476', 'transaction_attribute_477', 'transaction_attribute_478', 'transaction_attribute_482', 'transaction_attribute_483', 'transaction_attribute_484', 'transaction_attribute_485', 'transaction_attribute_486', 'transaction_attribute_487', 'transaction_attribute_488', 'transaction_attribute_492', 'transaction_attribute_493', 'transaction_attribute_497', 'transaction_attribute_498', 'transaction_attribute_502', 'transaction_attribute_503', 'transaction_attribute_506', 'transaction_attribute_507', 'transaction_attribute_508', 'transaction_attribute_511', 'transaction_attribute_512', 'transaction_attribute_513', 'transaction_attribute_516', 'transaction_attribute_517', 'transaction_attribute_518', 'transaction_attribute_520', 'transaction_attribute_521', 'transaction_attribute_522', 'transaction_attribute_523', 'transaction_attribute_526', 'transaction_attribute_527', 'transaction_attribute_528', 'transaction_attribute_531', 'transaction_attribute_532', 'transaction_attribute_533', 'transaction_attribute_536', 'transaction_attribute_537', 'transaction_attribute_538', 'transaction_attribute_542', 'transaction_attribute_543', 'transaction_attribute_544', 'transaction_attribute_546', 'transaction_attribute_550', 'transaction_attribute_571', 'transaction_attribute_574', 'transaction_attribute_578', 'transaction_attribute_579', 'transaction_attribute_580', 'transaction_attribute_581', 'transaction_attribute_589', 'transaction_attribute_604', 'transaction_attribute_613', 'transaction_attribute_619', 'transaction_attribute_620', 'transaction_attribute_624', 'transaction_attribute_628', 'transaction_attribute_629', 'transaction_attribute_630', 'transaction_attribute_631', 'transaction_attribute_632', 'transaction_attribute_633', 'transaction_attribute_634', 'transaction_attribute_635', 'transaction_attribute_636', 'transaction_attribute_637', 'transaction_attribute_638', 'transaction_attribute_639', 'transaction_attribute_640', 'transaction_attribute_641', 'transaction_attribute_642', 'transaction_attribute_643', 'transaction_attribute_644', 'transaction_attribute_645', 'transaction_attribute_646', 'transaction_attribute_647', 'transaction_attribute_648', 'transaction_attribute_649', 'transaction_attribute_650', 'transaction_attribute_651', 'transaction_attribute_652', 'transaction_attribute_654', 'transaction_attribute_655', 'transaction_attribute_656', 'transaction_attribute_657', 'transaction_attribute_658', 'transaction_attribute_659', 'transaction_attribute_660', 'transaction_attribute_661', 'transaction_attribute_662', 'transaction_attribute_663', 'transaction_attribute_664']\n",
            "Dropped features from 'bureau_enquiry': ['bureau_enquiry_3', 'bureau_enquiry_13', 'bureau_enquiry_21', 'bureau_enquiry_23', 'bureau_enquiry_33', 'bureau_enquiry_39', 'bureau_enquiry_41', 'bureau_enquiry_42', 'bureau_enquiry_43', 'bureau_enquiry_45', 'bureau_enquiry_46', 'bureau_enquiry_49', 'bureau_enquiry_50']\n",
            "Dropped features from 'bureau': ['bureau_10', 'bureau_11', 'bureau_12', 'bureau_22', 'bureau_23', 'bureau_24', 'bureau_25', 'bureau_27', 'bureau_28', 'bureau_30', 'bureau_31', 'bureau_32', 'bureau_33', 'bureau_34', 'bureau_53', 'bureau_55', 'bureau_58', 'bureau_61', 'bureau_62', 'bureau_66', 'bureau_76', 'bureau_86', 'bureau_96', 'bureau_102', 'bureau_106', 'bureau_108', 'bureau_112', 'bureau_113', 'bureau_114', 'bureau_115', 'bureau_116', 'bureau_126', 'bureau_127', 'bureau_138', 'bureau_174', 'bureau_183', 'bureau_188', 'bureau_223', 'bureau_234', 'bureau_239', 'bureau_240', 'bureau_244', 'bureau_245', 'bureau_246', 'bureau_247', 'bureau_248', 'bureau_249', 'bureau_250', 'bureau_251', 'bureau_254', 'bureau_255', 'bureau_256', 'bureau_257', 'bureau_258', 'bureau_259', 'bureau_260', 'bureau_263', 'bureau_264', 'bureau_265', 'bureau_266', 'bureau_267', 'bureau_268', 'bureau_274', 'bureau_280', 'bureau_284', 'bureau_289', 'bureau_290', 'bureau_291', 'bureau_293', 'bureau_294', 'bureau_295', 'bureau_296', 'bureau_297', 'bureau_298', 'bureau_299', 'bureau_300', 'bureau_303', 'bureau_304', 'bureau_305', 'bureau_306', 'bureau_307', 'bureau_308', 'bureau_310', 'bureau_314', 'bureau_320', 'bureau_324', 'bureau_330', 'bureau_334', 'bureau_340', 'bureau_344', 'bureau_349', 'bureau_350', 'bureau_353', 'bureau_354', 'bureau_356', 'bureau_357', 'bureau_358', 'bureau_359', 'bureau_360', 'bureau_363', 'bureau_364', 'bureau_366', 'bureau_370', 'bureau_373', 'bureau_374', 'bureau_376', 'bureau_380', 'bureau_383', 'bureau_384', 'bureau_386', 'bureau_388', 'bureau_394', 'bureau_398', 'bureau_407', 'bureau_408', 'bureau_417', 'bureau_418', 'bureau_419', 'bureau_430', 'bureau_432', 'bureau_443', 'bureau_450']\n"
          ]
        }
      ],
      "source": [
        "import numpy as np\n",
        "\n",
        "# Function to remove highly correlated features\n",
        "def remove_highly_correlated_features(df, feature_list, threshold=0.9):\n",
        "    # Subset the dataframe with the relevant features\n",
        "    df_subset = df[feature_list]\n",
        "\n",
        "    # Compute the correlation matrix\n",
        "    corr_matrix = df_subset.corr().abs()\n",
        "\n",
        "    # Extract the upper triangle of the correlation matrix to avoid double counting\n",
        "    upper_triangle = corr_matrix.where(np.triu(np.ones(corr_matrix.shape), k=1).astype(bool))\n",
        "\n",
        "    # Identify columns with correlation above the threshold\n",
        "    to_drop = [column for column in upper_triangle.columns if any(upper_triangle[column] > threshold)]\n",
        "\n",
        "    # Drop the identified columns\n",
        "    df_subset = df_subset.drop(columns=to_drop)\n",
        "\n",
        "    return df_subset, to_drop\n",
        "\n",
        "# Apply for each set of features\n",
        "onus_attribute_cleaned, onus_attribute_dropped = remove_highly_correlated_features(df_dev, onus_attribute_features)\n",
        "transaction_attribute_cleaned, transaction_attribute_dropped = remove_highly_correlated_features(df_dev, transaction_attribute_features)\n",
        "bureau_enquiry_cleaned, bureau_enquiry_dropped = remove_highly_correlated_features(df_dev, bureau_enquiry_features)\n",
        "bureau_cleaned, bureau_dropped = remove_highly_correlated_features(df_dev, bureau_features)\n",
        "\n",
        "# Display results\n",
        "print(f\"Remaining features in 'onus_attribute': {len(onus_attribute_cleaned.columns)}\")\n",
        "print(f\"Remaining features in 'transaction_attribute_': {len(transaction_attribute_cleaned.columns)}\")\n",
        "print(f\"Remaining features in 'bureau_enquiry': {len(bureau_enquiry_cleaned.columns)}\")\n",
        "print(f\"Remaining features in 'bureau': {len(bureau_cleaned.columns)}\")\n",
        "\n",
        "# Optionally, display the dropped features for each set\n",
        "print(\"\\nDropped features from 'onus_attribute':\", onus_attribute_dropped)\n",
        "print(\"Dropped features from 'transaction_attribute_':\", transaction_attribute_dropped)\n",
        "print(\"Dropped features from 'bureau_enquiry':\", bureau_enquiry_dropped)\n",
        "print(\"Dropped features from 'bureau':\", bureau_dropped)\n"
      ]
    },
    {
      "cell_type": "code",
      "execution_count": 17,
      "metadata": {
        "colab": {
          "base_uri": "https://localhost:8080/"
        },
        "id": "F_XTFzZJBsu1",
        "outputId": "b7795690-8417-4013-91ac-6608ed6d8155"
      },
      "outputs": [
        {
          "name": "stdout",
          "output_type": "stream",
          "text": [
            "Features with more than 35% null values:\n",
            "onus_attribute_1           0.453681\n",
            "transaction_attribute_1    0.453681\n",
            "transaction_attribute_2    0.453681\n",
            "transaction_attribute_3    0.453681\n",
            "transaction_attribute_4    0.453681\n",
            "                             ...   \n",
            "bureau_enquiry_45          1.568158\n",
            "bureau_enquiry_46          1.568158\n",
            "bureau_enquiry_48          1.568158\n",
            "bureau_enquiry_49          1.568158\n",
            "bureau_enquiry_50          1.568158\n",
            "Length: 1110, dtype: float64\n"
          ]
        }
      ],
      "source": [
        "# Calculate the percentage of null values for each feature\n",
        "null_percentage = df_dev.isnull().mean() * 100\n",
        "\n",
        "# Filter features with more than 35% null values\n",
        "features_with_high_nulls = null_percentage[null_percentage > 0]\n",
        "\n",
        "# Print the features and their corresponding null percentages\n",
        "print(\"Features with more than 35% null values:\")\n",
        "print(features_with_high_nulls)\n"
      ]
    },
    {
      "cell_type": "code",
      "execution_count": 18,
      "metadata": {},
      "outputs": [],
      "source": [
        "df_dev = df_dev[\n",
        "    list(onus_attribute_cleaned.columns) +\n",
        "    list(transaction_attribute_cleaned.columns) +\n",
        "    list(bureau_enquiry_cleaned.columns) +\n",
        "    list(bureau_cleaned.columns) +\n",
        "    ['account_number', 'bad_flag']  \n",
        "]\n"
      ]
    },
    {
      "cell_type": "code",
      "execution_count": 19,
      "metadata": {},
      "outputs": [
        {
          "name": "stdout",
          "output_type": "stream",
          "text": [
            "Shape of df_dev: (70975, 787)\n",
            "Count of bad_flag values:\n",
            "bad_flag\n",
            "0    69603\n",
            "1     1372\n",
            "Name: count, dtype: int64\n",
            "0.019330750264177528\n"
          ]
        }
      ],
      "source": [
        "df_dev.shape\n",
        "print(f\"Shape of df_dev: {df_dev.shape}\")\n",
        "\n",
        "# Count the occurrences of 1s and 0s in the 'bad_flag' column\n",
        "bad_flag_counts = df_dev['bad_flag'].value_counts()\n",
        "\n",
        "# Display the counts\n",
        "print(\"Count of bad_flag values:\")\n",
        "print(bad_flag_counts)\n",
        "print(1372/(1372+69603))"
      ]
    },
    {
      "cell_type": "markdown",
      "metadata": {},
      "source": [
        "# **Models**"
      ]
    },
    {
      "cell_type": "markdown",
      "metadata": {},
      "source": [
        "**Random Forests**"
      ]
    },
    {
      "cell_type": "code",
      "execution_count": null,
      "metadata": {
        "colab": {
          "base_uri": "https://localhost:8080/"
        },
        "id": "BmmitBnTBsu1",
        "outputId": "d2dfa82b-6f19-497d-beb3-8c5ab933fea4"
      },
      "outputs": [
        {
          "name": "stdout",
          "output_type": "stream",
          "text": [
            "Accuracy: 0.9859105318774216\n",
            "F1 Score: 0.42528735632183906\n",
            "AUC Score: 0.635036496350365\n",
            "Classification Report:\n",
            "              precision    recall  f1-score   support\n",
            "\n",
            "           0       0.99      1.00      0.99     13921\n",
            "           1       1.00      0.27      0.43       274\n",
            "\n",
            "    accuracy                           0.99     14195\n",
            "   macro avg       0.99      0.64      0.71     14195\n",
            "weighted avg       0.99      0.99      0.98     14195\n",
            "\n"
          ]
        }
      ],
      "source": [
        "# Random Forests\n",
        "# Step 1: Separate features (X) and target (y)\n",
        "X = df_dev.drop(columns=['bad_flag', 'account_number'])  # Drop target and account_number from features\n",
        "y = df_dev['bad_flag']  # Target variable\n",
        "\n",
        "# Step 2: Split the data into training and testing sets\n",
        "X_train, X_test, y_train, y_test = train_test_split(X, y, test_size=0.2, random_state=42, stratify=y)\n",
        "\n",
        "# Step 3: Train the Random Forest model\n",
        "rf_model = RandomForestClassifier(n_estimators=200, random_state=42)  # You can adjust n_estimators and other hyperparameters\n",
        "rf_model.fit(X_train, y_train)\n",
        "\n",
        "# Step 4: Make predictions and evaluate the model\n",
        "y_pred = rf_model.predict(X_test)\n",
        "\n",
        "# Print accuracy\n",
        "print(f\"Accuracy: {accuracy_score(y_test, y_pred)}\")\n",
        "\n",
        "# Print F1 Score\n",
        "f1 = f1_score(y_test, y_pred)\n",
        "print(f\"F1 Score: {f1}\")\n",
        "\n",
        "print(f\"AUC Score: {roc_auc_score(y_test, y_pred)}\")\n",
        "\n",
        "# Print classification report\n",
        "print(\"Classification Report:\")\n",
        "print(classification_report(y_test, y_pred))\n"
      ]
    },
    {
      "cell_type": "markdown",
      "metadata": {},
      "source": [
        "**XGBoost**"
      ]
    },
    {
      "cell_type": "code",
      "execution_count": null,
      "metadata": {
        "colab": {
          "base_uri": "https://localhost:8080/"
        },
        "id": "PqJ9i0izMhEB",
        "outputId": "d28a3906-d51a-4c78-d1b1-6182f97cf9af"
      },
      "outputs": [
        {
          "name": "stderr",
          "output_type": "stream",
          "text": [
            "c:\\Users\\11a24\\anaconda3\\Lib\\site-packages\\xgboost\\core.py:158: UserWarning: [23:38:46] WARNING: C:\\buildkite-agent\\builds\\buildkite-windows-cpu-autoscaling-group-i-0c55ff5f71b100e98-1\\xgboost\\xgboost-ci-windows\\src\\learner.cc:740: \n",
            "Parameters: { \"use_label_encoder\" } are not used.\n",
            "\n",
            "  warnings.warn(smsg, UserWarning)\n"
          ]
        },
        {
          "name": "stdout",
          "output_type": "stream",
          "text": [
            "XGBoost Performance:\n",
            "Accuracy: 0.9858400845368087\n",
            "AUC Score: 0.6367894799486361\n",
            "F1 Score: 0.42735042735042733\n",
            "Classification Report:\n",
            "              precision    recall  f1-score   support\n",
            "\n",
            "           0       0.99      1.00      0.99     13921\n",
            "           1       0.97      0.27      0.43       274\n",
            "\n",
            "    accuracy                           0.99     14195\n",
            "   macro avg       0.98      0.64      0.71     14195\n",
            "weighted avg       0.99      0.99      0.98     14195\n",
            "\n"
          ]
        }
      ],
      "source": [
        "# Train XGBoost Classifier\n",
        "xgb_model = XGBClassifier(n_estimators=100, random_state=42, use_label_encoder=False, eval_metric='logloss')\n",
        "xgb_model.fit(X_train, y_train)\n",
        "\n",
        "# Make predictions\n",
        "y_pred_xgb = xgb_model.predict(X_test)\n",
        "\n",
        "# Evaluate XGBoost model\n",
        "print(\"XGBoost Performance:\")\n",
        "print(f\"Accuracy: {accuracy_score(y_test, y_pred_xgb)}\")\n",
        "print(f\"AUC Score: {roc_auc_score(y_test, y_pred_xgb)}\")\n",
        "print(f\"F1 Score: {f1_score(y_test, y_pred_xgb)}\")\n",
        "print(\"Classification Report:\")\n",
        "print(classification_report(y_test, y_pred_xgb))"
      ]
    },
    {
      "cell_type": "markdown",
      "metadata": {},
      "source": [
        "**LightGBM**"
      ]
    },
    {
      "cell_type": "code",
      "execution_count": null,
      "metadata": {
        "colab": {
          "base_uri": "https://localhost:8080/"
        },
        "id": "-GST-837Mg9g",
        "outputId": "edbdadb6-a184-4d5b-e5be-a4a381b03307"
      },
      "outputs": [
        {
          "name": "stdout",
          "output_type": "stream",
          "text": [
            "[LightGBM] [Info] Number of positive: 1098, number of negative: 55682\n",
            "[LightGBM] [Info] Auto-choosing col-wise multi-threading, the overhead of testing was 0.294004 seconds.\n",
            "You can set `force_col_wise=true` to remove the overhead.\n",
            "[LightGBM] [Info] Total Bins 104207\n",
            "[LightGBM] [Info] Number of data points in the train set: 56780, number of used features: 785\n",
            "[LightGBM] [Info] [binary:BoostFromScore]: pavg=0.019338 -> initscore=-3.926167\n",
            "[LightGBM] [Info] Start training from score -3.926167\n",
            "LightGBM Performance:\n",
            "Accuracy: 0.9858400845368087\n",
            "F1 Score: 0.42406876790830944\n",
            "AUC Score: 0.8779127474796518\n",
            "Classification Report:\n",
            "              precision    recall  f1-score   support\n",
            "\n",
            "           0       0.99      1.00      0.99     13921\n",
            "           1       0.99      0.27      0.42       274\n",
            "\n",
            "    accuracy                           0.99     14195\n",
            "   macro avg       0.99      0.64      0.71     14195\n",
            "weighted avg       0.99      0.99      0.98     14195\n",
            "\n"
          ]
        }
      ],
      "source": [
        "# Train LightGBM model\n",
        "lgb_model = lgb.LGBMClassifier(\n",
        "    n_estimators=100,\n",
        "    learning_rate=0.05,\n",
        "    num_leaves=31,\n",
        "    random_state=42\n",
        ")\n",
        "\n",
        "lgb_model.fit(X_train, y_train)\n",
        "\n",
        "# Predict and evaluate\n",
        "y_pred_lgb = lgb_model.predict(X_test)\n",
        "y_pred_proba_lgb = lgb_model.predict_proba(X_test)[:, 1]  # Get probabilities for the positive class\n",
        "\n",
        "# Print performance metrics\n",
        "print(\"LightGBM Performance:\")\n",
        "print(f\"Accuracy: {accuracy_score(y_test, y_pred_lgb)}\")\n",
        "print(f\"F1 Score: {f1_score(y_test, y_pred_lgb)}\")\n",
        "print(f\"AUC Score: {roc_auc_score(y_test, y_pred_proba_lgb)}\")\n",
        "print(\"Classification Report:\")\n",
        "print(classification_report(y_test, y_pred_lgb))"
      ]
    },
    {
      "cell_type": "markdown",
      "metadata": {
        "id": "rD8_T8JNm1R7"
      },
      "source": [
        "**LIGHTGBM WITH RANDOMIZEDSEARCHCV HYPERPARATMER TUNING**"
      ]
    },
    {
      "cell_type": "code",
      "execution_count": 23,
      "metadata": {
        "colab": {
          "base_uri": "https://localhost:8080/"
        },
        "id": "brJ5laiVmvvX",
        "outputId": "c2008f83-4cf6-454a-bbc4-082ca93497b5"
      },
      "outputs": [
        {
          "name": "stdout",
          "output_type": "stream",
          "text": [
            "Fitting 5 folds for each of 10 candidates, totalling 50 fits\n",
            "[LightGBM] [Info] Number of positive: 1098, number of negative: 55682\n",
            "[LightGBM] [Info] Auto-choosing col-wise multi-threading, the overhead of testing was 0.260422 seconds.\n",
            "You can set `force_col_wise=true` to remove the overhead.\n",
            "[LightGBM] [Info] Total Bins 104207\n",
            "[LightGBM] [Info] Number of data points in the train set: 56780, number of used features: 785\n",
            "[LightGBM] [Info] [binary:BoostFromScore]: pavg=0.019338 -> initscore=-3.926167\n",
            "[LightGBM] [Info] Start training from score -3.926167\n",
            "Best Parameters: {'subsample': 0.8, 'reg_alpha': 1.0, 'num_leaves': 15, 'n_estimators': 200, 'learning_rate': 0.05}\n"
          ]
        }
      ],
      "source": [
        "from sklearn.model_selection import RandomizedSearchCV\n",
        "import numpy as np\n",
        "\n",
        "# Define the model\n",
        "lgb_model = lgb.LGBMClassifier(random_state=42)\n",
        "\n",
        "# Define the parameter distributions\n",
        "param_distributions = {\n",
        "    'n_estimators': [100, 200],\n",
        "    'learning_rate': [0.01, 0.05],\n",
        "    'num_leaves': [15, 31],\n",
        "    'reg_alpha': [0.1, 0.5, 1.0],\n",
        "    'subsample': [0.8, 1.0],\n",
        "}\n",
        "\n",
        "# Initialize RandomizedSearchCV with the parameter distributions\n",
        "random_search = RandomizedSearchCV(\n",
        "    estimator=lgb_model,\n",
        "    param_distributions=param_distributions,\n",
        "    scoring='f1',  # Optimize for F1 score\n",
        "    cv=5,          # 5-fold cross-validation\n",
        "    verbose=2,     # Display progress\n",
        "    n_jobs=4,      # Limit the number of parallel jobs\n",
        "    n_iter=10,     # Number of iterations (reduce for faster testing)\n",
        "    random_state=42\n",
        ")\n",
        "\n",
        "# Step 5: Fit RandomizedSearchCV to the data\n",
        "random_search.fit(X_train, y_train)\n",
        "\n",
        "# Get the best model and its parameters\n",
        "best_lgb_model = random_search.best_estimator_\n",
        "\n",
        "# Print the best parameters\n",
        "print(f\"Best Parameters: {random_search.best_params_}\")\n"
      ]
    },
    {
      "cell_type": "code",
      "execution_count": 24,
      "metadata": {},
      "outputs": [
        {
          "name": "stdout",
          "output_type": "stream",
          "text": [
            "Tuned LightGBM Performance:\n",
            "Accuracy: 0.9859105318774216\n",
            "F1 Score: 0.42528735632183906\n",
            "AUC Score: 0.8761488839263477\n",
            "Classification Report:\n",
            "              precision    recall  f1-score   support\n",
            "\n",
            "           0       0.99      1.00      0.99     13921\n",
            "           1       1.00      0.27      0.43       274\n",
            "\n",
            "    accuracy                           0.99     14195\n",
            "   macro avg       0.99      0.64      0.71     14195\n",
            "weighted avg       0.99      0.99      0.98     14195\n",
            "\n"
          ]
        }
      ],
      "source": [
        "# Predict and evaluate the best model\n",
        "y_pred_lgb = best_lgb_model.predict(X_test)\n",
        "y_pred_proba_lgb = best_lgb_model.predict_proba(X_test)[:, 1]  # Get probabilities for the positive class\n",
        "\n",
        "# Print performance metrics\n",
        "print(\"Tuned LightGBM Performance:\")\n",
        "print(f\"Accuracy: {accuracy_score(y_test, y_pred_lgb)}\")\n",
        "print(f\"F1 Score: {f1_score(y_test, y_pred_lgb)}\")\n",
        "print(f\"AUC Score: {roc_auc_score(y_test, y_pred_proba_lgb)}\")\n",
        "print(\"Classification Report:\")\n",
        "print(classification_report(y_test, y_pred_lgb))\n"
      ]
    },
    {
      "cell_type": "markdown",
      "metadata": {},
      "source": [
        "# **Validation Dataset**"
      ]
    },
    {
      "cell_type": "code",
      "execution_count": 25,
      "metadata": {},
      "outputs": [
        {
          "name": "stdout",
          "output_type": "stream",
          "text": [
            "[LightGBM] [Info] Number of positive: 1372, number of negative: 69603\n",
            "[LightGBM] [Info] Auto-choosing col-wise multi-threading, the overhead of testing was 0.367526 seconds.\n",
            "You can set `force_col_wise=true` to remove the overhead.\n",
            "[LightGBM] [Info] Total Bins 106465\n",
            "[LightGBM] [Info] Number of data points in the train set: 70975, number of used features: 785\n",
            "[LightGBM] [Info] [binary:BoostFromScore]: pavg=0.019331 -> initscore=-3.926538\n",
            "[LightGBM] [Info] Start training from score -3.926538\n",
            "Predictions have been saved to 'predicted_probabilities.csv'.\n"
          ]
        }
      ],
      "source": [
        "# Step 1: Prepare the data\n",
        "# Remove target column ('bad_flag') from both df_dev and df_val\n",
        "X_train = df_dev.drop(['bad_flag','account_number'], axis=1)  # Remove target from training set\n",
        "y_train = df_dev['bad_flag']  # The target in df_dev\n",
        "\n",
        "# Extract account numbers from df_val (make sure this column is preserved)\n",
        "account_numbers = df_val['account_number']  # Account numbers from df_val\n",
        "\n",
        "# Remove target column ('bad_flag') from df_val if it exists\n",
        "X_val = df_val.drop(['bad_flag'], axis=1, errors='ignore')\n",
        "\n",
        "# Step 2: Align the features between df_dev and df_val\n",
        "# Ensure both datasets have the same columns by keeping only the common columns (excluding 'account_number')\n",
        "common_columns = X_train.columns.intersection(X_val.columns)\n",
        "X_train = X_train[common_columns]\n",
        "X_val = X_val[common_columns]\n",
        "\n",
        "# Step 3: Define the model with the best hyperparameters\n",
        "best_params = {\n",
        "    'subsample': 0.8,\n",
        "    'reg_alpha': 1.0,\n",
        "    'num_leaves': 15,\n",
        "    'n_estimators': 200,\n",
        "    'learning_rate': 0.05\n",
        "}\n",
        "\n",
        "# Initialize the LightGBM model with the best hyperparameters\n",
        "lgb_model = lgb.LGBMClassifier(**best_params, random_state=42)\n",
        "\n",
        "# Step 4: Train the model on the entire training dataset (df_dev)\n",
        "lgb_model.fit(X_train, y_train)\n",
        "\n",
        "# Step 5: Make predictions on the validation set (df_val)\n",
        "y_pred_proba = lgb_model.predict_proba(X_val)[:, 1]  # Get probabilities for the positive class\n",
        "\n",
        "# Step 6: Create a DataFrame with account_number and predicted probabilities\n",
        "result_df = pd.DataFrame({\n",
        "    'account_number': account_numbers,  # From df_val\n",
        "    'predicted_probability': y_pred_proba  # Predicted probability for positive class\n",
        "})\n",
        "\n",
        "# Step 7: Save the results to a CSV file\n",
        "result_df.to_csv('predicted_probabilities.csv', index=False)\n",
        "\n",
        "print(\"Predictions have been saved to 'predicted_probabilities.csv'.\")\n"
      ]
    },
    {
      "cell_type": "code",
      "execution_count": 26,
      "metadata": {},
      "outputs": [
        {
          "data": {
            "text/plain": [
              "(41792, 2)"
            ]
          },
          "execution_count": 26,
          "metadata": {},
          "output_type": "execute_result"
        }
      ],
      "source": [
        "result_df.shape"
      ]
    },
    {
      "cell_type": "code",
      "execution_count": 27,
      "metadata": {},
      "outputs": [
        {
          "data": {
            "text/plain": [
              "<bound method NDFrame.head of        account_number  predicted_probability\n",
              "0              100001               0.012955\n",
              "1              100002               0.990490\n",
              "2              100003               0.001916\n",
              "3              100004               0.995262\n",
              "4              100005               0.014959\n",
              "...               ...                    ...\n",
              "41787          141788               0.008014\n",
              "41788          141789               0.003088\n",
              "41789          141790               0.010737\n",
              "41790          141791               0.004817\n",
              "41791          141792               0.016455\n",
              "\n",
              "[41792 rows x 2 columns]>"
            ]
          },
          "execution_count": 27,
          "metadata": {},
          "output_type": "execute_result"
        }
      ],
      "source": [
        "result_df.head"
      ]
    },
    {
      "cell_type": "code",
      "execution_count": 30,
      "metadata": {},
      "outputs": [
        {
          "name": "stdout",
          "output_type": "stream",
          "text": [
            "Basic Information:\n",
            "<class 'pandas.core.frame.DataFrame'>\n",
            "RangeIndex: 41792 entries, 0 to 41791\n",
            "Data columns (total 2 columns):\n",
            " #   Column                 Non-Null Count  Dtype  \n",
            "---  ------                 --------------  -----  \n",
            " 0   account_number         41792 non-null  int64  \n",
            " 1   predicted_probability  41792 non-null  float64\n",
            "dtypes: float64(1), int64(1)\n",
            "memory usage: 653.1 KB\n",
            "None\n",
            "\n",
            "Summary Statistics of Predicted Probabilities:\n",
            "count    41792.000000\n",
            "mean         0.280835\n",
            "std          0.436314\n",
            "min          0.000210\n",
            "25%          0.003186\n",
            "50%          0.011599\n",
            "75%          0.993063\n",
            "max          0.999537\n",
            "Name: predicted_probability, dtype: float64\n"
          ]
        },
        {
          "data": {
            "image/png": "[encoded data removed]",
            "text/plain": [
              "<Figure size 1000x600 with 1 Axes>"
            ]
          },
          "metadata": {},
          "output_type": "display_data"
        },
        {
          "name": "stdout",
          "output_type": "stream",
          "text": [
            "\n",
            "Null Values in result_df:\n",
            "account_number           0\n",
            "predicted_probability    0\n",
            "dtype: int64\n",
            "\n",
            "Number of Duplicate Account Numbers:\n",
            "0\n",
            "\n",
            "Min Probability: 0.00021016684340655978\n",
            "Max Probability: 0.999537285721584\n",
            "\n",
            "Number of positive class predictions (> 0.5): 11392\n"
          ]
        },
        {
          "data": {
            "image/png": "[encoded data removed]",
            "text/plain": [
              "<Figure size 800x600 with 1 Axes>"
            ]
          },
          "metadata": {},
          "output_type": "display_data"
        }
      ],
      "source": [
        "# Step 1: Basic Information\n",
        "print(\"Basic Information:\")\n",
        "print(result_df.info())  # Data types and non-null counts\n",
        "print(\"\\nSummary Statistics of Predicted Probabilities:\")\n",
        "print(result_df['predicted_probability'].describe())  # Descriptive statistics\n",
        "\n",
        "# Step 2: Distribution of Predicted Probabilities\n",
        "plt.figure(figsize=(10, 6))\n",
        "sns.histplot(result_df['predicted_probability'], kde=True, bins=50)\n",
        "plt.title('Distribution of Predicted Probabilities')\n",
        "plt.xlabel('Predicted Probability')\n",
        "plt.ylabel('Frequency')\n",
        "plt.show()\n",
        "\n",
        "# Step 3: Checking for any null values\n",
        "print(\"\\nNull Values in result_df:\")\n",
        "print(result_df.isnull().sum())\n",
        "\n",
        "# Step 4: Checking for duplicate account numbers\n",
        "print(\"\\nNumber of Duplicate Account Numbers:\")\n",
        "print(result_df['account_number'].duplicated().sum())\n",
        "\n",
        "# Step 5: Checking the range of predicted probabilities\n",
        "min_prob = result_df['predicted_probability'].min()\n",
        "max_prob = result_df['predicted_probability'].max()\n",
        "print(f\"\\nMin Probability: {min_prob}\")\n",
        "print(f\"Max Probability: {max_prob}\")\n",
        "\n",
        "# Step 6: Count the number of predictions above 0.5 (indicating positive class predictions)\n",
        "positive_predictions = result_df[result_df['predicted_probability'] > 0.5]\n",
        "print(f\"\\nNumber of positive class predictions (> 0.5): {len(positive_predictions)}\")\n",
        "\n",
        "# Step 7: Visualize the distribution of predictions in two categories: <= 0.5 and > 0.5\n",
        "plt.figure(figsize=(8, 6))\n",
        "sns.countplot(x=(result_df['predicted_probability'] > 0.5).astype(int))\n",
        "plt.title('Count of Predictions (<= 0.5 vs > 0.5)')\n",
        "plt.xlabel('Prediction Class (0: <= 0.5, 1: > 0.5)')\n",
        "plt.ylabel('Count')\n",
        "plt.xticks([0, 1], ['<= 0.5', '> 0.5'])\n",
        "plt.show()\n"
      ]
    }
  ],
  "metadata": {
    "accelerator": "GPU",
    "colab": {
      "gpuType": "T4",
      "provenance": []
    },
    "kernelspec": {
      "display_name": "Python (base)",
      "language": "python",
      "name": "base"
    },
    "language_info": {
      "codemirror_mode": {
        "name": "ipython",
        "version": 3
      },
      "file_extension": ".py",
      "mimetype": "text/x-python",
      "name": "python",
      "nbconvert_exporter": "python",
      "pygments_lexer": "ipython3",
      "version": "3.11.9"
    }
  },
  "nbformat": 4,
  "nbformat_minor": 0
}
